{
 "cells": [
  {
   "cell_type": "markdown",
   "id": "7096bfa7",
   "metadata": {},
   "source": [
    "Este archivo realiza una ingesta y limpieza de datos de un archivo \".csv\" descargado de la página Kaggle.Trata de buques comerciales, en los cuales se indica, la compania a la que pertenecen, nombre,año de construcción,capacidad interna,capacidad de carga, eslora y manga (largo y ancho)."
   ]
  },
  {
   "cell_type": "code",
   "execution_count": 58,
   "id": "d823ac1b",
   "metadata": {},
   "outputs": [],
   "source": [
    "import pandas as pd\n",
    "\n",
    "df=pd.read_csv(\"C:/Users/Adri/Desktop/PG/Python/complemetarios/DataSet/Ship_Uncleaned.csv\", sep=\",\")"
   ]
  },
  {
   "cell_type": "code",
   "execution_count": 2,
   "id": "eefb373e",
   "metadata": {
    "scrolled": true
   },
   "outputs": [
    {
     "data": {
      "text/html": [
       "<div>\n",
       "<style scoped>\n",
       "    .dataframe tbody tr th:only-of-type {\n",
       "        vertical-align: middle;\n",
       "    }\n",
       "\n",
       "    .dataframe tbody tr th {\n",
       "        vertical-align: top;\n",
       "    }\n",
       "\n",
       "    .dataframe thead th {\n",
       "        text-align: right;\n",
       "    }\n",
       "</style>\n",
       "<table border=\"1\" class=\"dataframe\">\n",
       "  <thead>\n",
       "    <tr style=\"text-align: right;\">\n",
       "      <th></th>\n",
       "      <th>Company_Name</th>\n",
       "      <th>ship_name</th>\n",
       "      <th>built_year</th>\n",
       "      <th>gt</th>\n",
       "      <th>dwt</th>\n",
       "      <th>size</th>\n",
       "    </tr>\n",
       "  </thead>\n",
       "  <tbody>\n",
       "    <tr>\n",
       "      <th>0</th>\n",
       "      <td>PRELUDE</td>\n",
       "      <td>Offshore Support Vessel</td>\n",
       "      <td>2017</td>\n",
       "      <td>499167</td>\n",
       "      <td>394330</td>\n",
       "      <td>489 / 74</td>\n",
       "    </tr>\n",
       "    <tr>\n",
       "      <th>1</th>\n",
       "      <td>PRELUDE</td>\n",
       "      <td>Offshore Support Vessel</td>\n",
       "      <td>2017</td>\n",
       "      <td>499167</td>\n",
       "      <td>394330</td>\n",
       "      <td>489 / 74</td>\n",
       "    </tr>\n",
       "    <tr>\n",
       "      <th>2</th>\n",
       "      <td>PRELUDE</td>\n",
       "      <td>Offshore Support Vessel</td>\n",
       "      <td>2017</td>\n",
       "      <td>499167</td>\n",
       "      <td>394330</td>\n",
       "      <td>489 / 74</td>\n",
       "    </tr>\n",
       "    <tr>\n",
       "      <th>3</th>\n",
       "      <td>PRELUDE</td>\n",
       "      <td>Offshore Support Vessel</td>\n",
       "      <td>2017</td>\n",
       "      <td>499167</td>\n",
       "      <td>394330</td>\n",
       "      <td>489 / 74</td>\n",
       "    </tr>\n",
       "    <tr>\n",
       "      <th>4</th>\n",
       "      <td>PRELUDE</td>\n",
       "      <td>Offshore Support Vessel</td>\n",
       "      <td>2017</td>\n",
       "      <td>499167</td>\n",
       "      <td>394330</td>\n",
       "      <td>489 / 74</td>\n",
       "    </tr>\n",
       "    <tr>\n",
       "      <th>5</th>\n",
       "      <td>PRELUDE</td>\n",
       "      <td>Offshore Support Vessel</td>\n",
       "      <td>2017</td>\n",
       "      <td>499167</td>\n",
       "      <td>394330</td>\n",
       "      <td>489 / 74</td>\n",
       "    </tr>\n",
       "    <tr>\n",
       "      <th>6</th>\n",
       "      <td>PRELUDE</td>\n",
       "      <td>Offshore Support Vessel</td>\n",
       "      <td>2017</td>\n",
       "      <td>499167</td>\n",
       "      <td>394330</td>\n",
       "      <td>489 / 74</td>\n",
       "    </tr>\n",
       "    <tr>\n",
       "      <th>7</th>\n",
       "      <td>PRELUDE</td>\n",
       "      <td>Offshore Support Vessel</td>\n",
       "      <td>2017</td>\n",
       "      <td>499167</td>\n",
       "      <td>394330</td>\n",
       "      <td>489 / 74</td>\n",
       "    </tr>\n",
       "    <tr>\n",
       "      <th>8</th>\n",
       "      <td>PRELUDE</td>\n",
       "      <td>Offshore Support Vessel</td>\n",
       "      <td>2017</td>\n",
       "      <td>499167</td>\n",
       "      <td>394330</td>\n",
       "      <td>489 / 74</td>\n",
       "    </tr>\n",
       "    <tr>\n",
       "      <th>9</th>\n",
       "      <td>PRELUDE</td>\n",
       "      <td>Offshore Support Vessel</td>\n",
       "      <td>2017</td>\n",
       "      <td>499167</td>\n",
       "      <td>394330</td>\n",
       "      <td>489 / 74</td>\n",
       "    </tr>\n",
       "  </tbody>\n",
       "</table>\n",
       "</div>"
      ],
      "text/plain": [
       "  Company_Name                ship_name  built_year      gt     dwt      size\n",
       "0      PRELUDE  Offshore Support Vessel        2017  499167  394330  489 / 74\n",
       "1      PRELUDE  Offshore Support Vessel        2017  499167  394330  489 / 74\n",
       "2      PRELUDE  Offshore Support Vessel        2017  499167  394330  489 / 74\n",
       "3      PRELUDE  Offshore Support Vessel        2017  499167  394330  489 / 74\n",
       "4      PRELUDE  Offshore Support Vessel        2017  499167  394330  489 / 74\n",
       "5      PRELUDE  Offshore Support Vessel        2017  499167  394330  489 / 74\n",
       "6      PRELUDE  Offshore Support Vessel        2017  499167  394330  489 / 74\n",
       "7      PRELUDE  Offshore Support Vessel        2017  499167  394330  489 / 74\n",
       "8      PRELUDE  Offshore Support Vessel        2017  499167  394330  489 / 74\n",
       "9      PRELUDE  Offshore Support Vessel        2017  499167  394330  489 / 74"
      ]
     },
     "execution_count": 2,
     "metadata": {},
     "output_type": "execute_result"
    }
   ],
   "source": [
    "# Se imprime las primeras 10 filas\n",
    "df.head(10)"
   ]
  },
  {
   "cell_type": "code",
   "execution_count": 3,
   "id": "9650a498",
   "metadata": {
    "scrolled": true
   },
   "outputs": [
    {
     "data": {
      "text/html": [
       "<div>\n",
       "<style scoped>\n",
       "    .dataframe tbody tr th:only-of-type {\n",
       "        vertical-align: middle;\n",
       "    }\n",
       "\n",
       "    .dataframe tbody tr th {\n",
       "        vertical-align: top;\n",
       "    }\n",
       "\n",
       "    .dataframe thead th {\n",
       "        text-align: right;\n",
       "    }\n",
       "</style>\n",
       "<table border=\"1\" class=\"dataframe\">\n",
       "  <thead>\n",
       "    <tr style=\"text-align: right;\">\n",
       "      <th></th>\n",
       "      <th>Company_Name</th>\n",
       "      <th>ship_name</th>\n",
       "      <th>built_year</th>\n",
       "      <th>gt</th>\n",
       "      <th>dwt</th>\n",
       "      <th>size</th>\n",
       "    </tr>\n",
       "  </thead>\n",
       "  <tbody>\n",
       "    <tr>\n",
       "      <th>3990</th>\n",
       "      <td>BRAVE SAILOR</td>\n",
       "      <td>Bulk Carrier</td>\n",
       "      <td>2011</td>\n",
       "      <td>89991</td>\n",
       "      <td>176283</td>\n",
       "      <td>292 / 45</td>\n",
       "    </tr>\n",
       "    <tr>\n",
       "      <th>3991</th>\n",
       "      <td>BRAVE SAILOR</td>\n",
       "      <td>Bulk Carrier</td>\n",
       "      <td>2011</td>\n",
       "      <td>89991</td>\n",
       "      <td>176283</td>\n",
       "      <td>292 / 45</td>\n",
       "    </tr>\n",
       "    <tr>\n",
       "      <th>3992</th>\n",
       "      <td>BRAVE SAILOR</td>\n",
       "      <td>Bulk Carrier</td>\n",
       "      <td>2011</td>\n",
       "      <td>89991</td>\n",
       "      <td>176283</td>\n",
       "      <td>292 / 45</td>\n",
       "    </tr>\n",
       "    <tr>\n",
       "      <th>3993</th>\n",
       "      <td>BRAVE SAILOR</td>\n",
       "      <td>Bulk Carrier</td>\n",
       "      <td>2011</td>\n",
       "      <td>89991</td>\n",
       "      <td>176283</td>\n",
       "      <td>292 / 45</td>\n",
       "    </tr>\n",
       "    <tr>\n",
       "      <th>3994</th>\n",
       "      <td>BRAVE SAILOR</td>\n",
       "      <td>Bulk Carrier</td>\n",
       "      <td>2011</td>\n",
       "      <td>89991</td>\n",
       "      <td>176283</td>\n",
       "      <td>292 / 45</td>\n",
       "    </tr>\n",
       "    <tr>\n",
       "      <th>3995</th>\n",
       "      <td>BRAVE SAILOR</td>\n",
       "      <td>Bulk Carrier</td>\n",
       "      <td>2011</td>\n",
       "      <td>89991</td>\n",
       "      <td>176283</td>\n",
       "      <td>292 / 45</td>\n",
       "    </tr>\n",
       "    <tr>\n",
       "      <th>3996</th>\n",
       "      <td>BRAVE SAILOR</td>\n",
       "      <td>Bulk Carrier</td>\n",
       "      <td>2011</td>\n",
       "      <td>89991</td>\n",
       "      <td>176283</td>\n",
       "      <td>292 / 45</td>\n",
       "    </tr>\n",
       "    <tr>\n",
       "      <th>3997</th>\n",
       "      <td>BRAVE SAILOR</td>\n",
       "      <td>Bulk Carrier</td>\n",
       "      <td>2011</td>\n",
       "      <td>89991</td>\n",
       "      <td>176283</td>\n",
       "      <td>292 / 45</td>\n",
       "    </tr>\n",
       "    <tr>\n",
       "      <th>3998</th>\n",
       "      <td>BRAVE SAILOR</td>\n",
       "      <td>Bulk Carrier</td>\n",
       "      <td>2011</td>\n",
       "      <td>89991</td>\n",
       "      <td>176283</td>\n",
       "      <td>292 / 45</td>\n",
       "    </tr>\n",
       "    <tr>\n",
       "      <th>3999</th>\n",
       "      <td>BRAVE SAILOR</td>\n",
       "      <td>Bulk Carrier</td>\n",
       "      <td>2011</td>\n",
       "      <td>89991</td>\n",
       "      <td>176283</td>\n",
       "      <td>292 / 45</td>\n",
       "    </tr>\n",
       "  </tbody>\n",
       "</table>\n",
       "</div>"
      ],
      "text/plain": [
       "      Company_Name     ship_name  built_year     gt     dwt      size\n",
       "3990  BRAVE SAILOR  Bulk Carrier        2011  89991  176283  292 / 45\n",
       "3991  BRAVE SAILOR  Bulk Carrier        2011  89991  176283  292 / 45\n",
       "3992  BRAVE SAILOR  Bulk Carrier        2011  89991  176283  292 / 45\n",
       "3993  BRAVE SAILOR  Bulk Carrier        2011  89991  176283  292 / 45\n",
       "3994  BRAVE SAILOR  Bulk Carrier        2011  89991  176283  292 / 45\n",
       "3995  BRAVE SAILOR  Bulk Carrier        2011  89991  176283  292 / 45\n",
       "3996  BRAVE SAILOR  Bulk Carrier        2011  89991  176283  292 / 45\n",
       "3997  BRAVE SAILOR  Bulk Carrier        2011  89991  176283  292 / 45\n",
       "3998  BRAVE SAILOR  Bulk Carrier        2011  89991  176283  292 / 45\n",
       "3999  BRAVE SAILOR  Bulk Carrier        2011  89991  176283  292 / 45"
      ]
     },
     "execution_count": 3,
     "metadata": {},
     "output_type": "execute_result"
    }
   ],
   "source": [
    "# Se imprime las ultimas 10 filas\n",
    "df.tail(10)"
   ]
  },
  {
   "cell_type": "code",
   "execution_count": 2,
   "id": "ff2add55",
   "metadata": {},
   "outputs": [
    {
     "data": {
      "text/plain": [
       "(4000, 6)"
      ]
     },
     "execution_count": 2,
     "metadata": {},
     "output_type": "execute_result"
    }
   ],
   "source": [
    "# Se realiza un shape para conocer número de filas y columnas\n",
    "\n",
    "df.shape"
   ]
  },
  {
   "cell_type": "code",
   "execution_count": 7,
   "id": "f87217ed",
   "metadata": {},
   "outputs": [
    {
     "data": {
      "text/plain": [
       "pandas.core.frame.DataFrame"
      ]
     },
     "execution_count": 7,
     "metadata": {},
     "output_type": "execute_result"
    }
   ],
   "source": [
    "# Se verifica el tipo de estructura \n",
    "type(df)"
   ]
  },
  {
   "cell_type": "code",
   "execution_count": 8,
   "id": "786ee5eb",
   "metadata": {},
   "outputs": [
    {
     "data": {
      "text/plain": [
       "Company_Name    4000\n",
       "ship_name       4000\n",
       "built_year      4000\n",
       "gt              4000\n",
       "dwt             4000\n",
       "size            4000\n",
       "dtype: int64"
      ]
     },
     "execution_count": 8,
     "metadata": {},
     "output_type": "execute_result"
    }
   ],
   "source": [
    "# verificación de valores mising (registros vacios),(No hay registros vacios)\n",
    "df.count()"
   ]
  },
  {
   "cell_type": "code",
   "execution_count": 10,
   "id": "fc2da183",
   "metadata": {},
   "outputs": [
    {
     "name": "stdout",
     "output_type": "stream",
     "text": [
      "Index(['Company_Name', 'ship_name', 'built_year', 'gt', 'dwt', 'size'], dtype='object')\n"
     ]
    }
   ],
   "source": [
    "# impresion para conocer nombres de columnas\n",
    "print(df.columns)"
   ]
  },
  {
   "cell_type": "code",
   "execution_count": 12,
   "id": "aa3e89ea",
   "metadata": {},
   "outputs": [
    {
     "name": "stdout",
     "output_type": "stream",
     "text": [
      "RangeIndex(start=0, stop=4000, step=1)\n"
     ]
    }
   ],
   "source": [
    "# impresion de indices \n",
    "print(df.index)"
   ]
  },
  {
   "cell_type": "code",
   "execution_count": 13,
   "id": "11c2e0c6",
   "metadata": {
    "scrolled": true
   },
   "outputs": [
    {
     "name": "stdout",
     "output_type": "stream",
     "text": [
      "<class 'pandas.core.frame.DataFrame'>\n",
      "RangeIndex: 4000 entries, 0 to 3999\n",
      "Data columns (total 6 columns):\n",
      " #   Column        Non-Null Count  Dtype \n",
      "---  ------        --------------  ----- \n",
      " 0   Company_Name  4000 non-null   object\n",
      " 1   ship_name     4000 non-null   object\n",
      " 2   built_year    4000 non-null   int64 \n",
      " 3   gt            4000 non-null   int64 \n",
      " 4   dwt           4000 non-null   int64 \n",
      " 5   size          4000 non-null   object\n",
      "dtypes: int64(3), object(3)\n",
      "memory usage: 187.6+ KB\n"
     ]
    }
   ],
   "source": [
    "# se chequea información\n",
    "\n",
    "df.info()"
   ]
  },
  {
   "cell_type": "code",
   "execution_count": 59,
   "id": "23eae4e6",
   "metadata": {
    "scrolled": true
   },
   "outputs": [],
   "source": [
    "# limpieza de datos, separo los valores de la columna size (eslora y manga) en 'large' y 'width'  \n",
    "\n",
    "df[['large', 'width']] = df['size'].str.split('/', expand=True)"
   ]
  },
  {
   "cell_type": "code",
   "execution_count": 60,
   "id": "0a7f599e",
   "metadata": {},
   "outputs": [
    {
     "name": "stdout",
     "output_type": "stream",
     "text": [
      "<class 'pandas.core.frame.DataFrame'>\n",
      "RangeIndex: 4000 entries, 0 to 3999\n",
      "Data columns (total 8 columns):\n",
      " #   Column        Non-Null Count  Dtype \n",
      "---  ------        --------------  ----- \n",
      " 0   Company_Name  4000 non-null   object\n",
      " 1   ship_name     4000 non-null   object\n",
      " 2   built_year    4000 non-null   int64 \n",
      " 3   gt            4000 non-null   int64 \n",
      " 4   dwt           4000 non-null   int64 \n",
      " 5   size          4000 non-null   object\n",
      " 6   large         4000 non-null   object\n",
      " 7   width         4000 non-null   object\n",
      "dtypes: int64(3), object(5)\n",
      "memory usage: 250.1+ KB\n"
     ]
    }
   ],
   "source": [
    "df.info()"
   ]
  },
  {
   "cell_type": "code",
   "execution_count": 34,
   "id": "8292ed26",
   "metadata": {},
   "outputs": [],
   "source": [
    "#Borro la columna size, ya que ahora esta separada en large y width\n",
    "\n",
    "df.drop('size', axis = \"columns\", inplace = True)\n",
    "\n"
   ]
  },
  {
   "cell_type": "code",
   "execution_count": 36,
   "id": "0954d96a",
   "metadata": {},
   "outputs": [
    {
     "data": {
      "text/plain": [
       "(4000, 7)"
      ]
     },
     "execution_count": 36,
     "metadata": {},
     "output_type": "execute_result"
    }
   ],
   "source": [
    "# Chequeo columnas \n",
    "df.shape"
   ]
  },
  {
   "cell_type": "code",
   "execution_count": 38,
   "id": "d50b274d",
   "metadata": {},
   "outputs": [
    {
     "data": {
      "text/plain": [
       "Company_Name    4000\n",
       "ship_name       4000\n",
       "built_year      4000\n",
       "gt              4000\n",
       "dwt             4000\n",
       "large           4000\n",
       "width           4000\n",
       "dtype: int64"
      ]
     },
     "execution_count": 38,
     "metadata": {},
     "output_type": "execute_result"
    }
   ],
   "source": [
    "# verifico columnas y missings\n",
    "df.count()"
   ]
  },
  {
   "cell_type": "code",
   "execution_count": 50,
   "id": "8c88505a",
   "metadata": {},
   "outputs": [],
   "source": [
    "# Convierto las columnas large y width en int\n",
    "\n",
    "df['large']=df['large'].astype(int)\n",
    "df['width']=df['width'].astype(int)\n"
   ]
  },
  {
   "cell_type": "code",
   "execution_count": 51,
   "id": "3386e5a9",
   "metadata": {},
   "outputs": [
    {
     "data": {
      "text/plain": [
       "Company_Name    object\n",
       "ship_name       object\n",
       "built_year       int64\n",
       "gt               int64\n",
       "dwt              int64\n",
       "large            int32\n",
       "width            int32\n",
       "dtype: object"
      ]
     },
     "execution_count": 51,
     "metadata": {},
     "output_type": "execute_result"
    }
   ],
   "source": [
    "# Verificación de tipos de datos\n",
    "\n",
    "df.dtypes"
   ]
  },
  {
   "cell_type": "code",
   "execution_count": 52,
   "id": "1d2fd4ec",
   "metadata": {
    "scrolled": true
   },
   "outputs": [
    {
     "data": {
      "text/html": [
       "<div>\n",
       "<style scoped>\n",
       "    .dataframe tbody tr th:only-of-type {\n",
       "        vertical-align: middle;\n",
       "    }\n",
       "\n",
       "    .dataframe tbody tr th {\n",
       "        vertical-align: top;\n",
       "    }\n",
       "\n",
       "    .dataframe thead th {\n",
       "        text-align: right;\n",
       "    }\n",
       "</style>\n",
       "<table border=\"1\" class=\"dataframe\">\n",
       "  <thead>\n",
       "    <tr style=\"text-align: right;\">\n",
       "      <th></th>\n",
       "      <th>Company_Name</th>\n",
       "      <th>ship_name</th>\n",
       "      <th>built_year</th>\n",
       "      <th>gt</th>\n",
       "      <th>dwt</th>\n",
       "      <th>large</th>\n",
       "      <th>width</th>\n",
       "    </tr>\n",
       "  </thead>\n",
       "  <tbody>\n",
       "    <tr>\n",
       "      <th>0</th>\n",
       "      <td>PRELUDE</td>\n",
       "      <td>Offshore Support Vessel</td>\n",
       "      <td>2017</td>\n",
       "      <td>499167</td>\n",
       "      <td>394330</td>\n",
       "      <td>489</td>\n",
       "      <td>74</td>\n",
       "    </tr>\n",
       "    <tr>\n",
       "      <th>1</th>\n",
       "      <td>PRELUDE</td>\n",
       "      <td>Offshore Support Vessel</td>\n",
       "      <td>2017</td>\n",
       "      <td>499167</td>\n",
       "      <td>394330</td>\n",
       "      <td>489</td>\n",
       "      <td>74</td>\n",
       "    </tr>\n",
       "    <tr>\n",
       "      <th>2</th>\n",
       "      <td>PRELUDE</td>\n",
       "      <td>Offshore Support Vessel</td>\n",
       "      <td>2017</td>\n",
       "      <td>499167</td>\n",
       "      <td>394330</td>\n",
       "      <td>489</td>\n",
       "      <td>74</td>\n",
       "    </tr>\n",
       "    <tr>\n",
       "      <th>3</th>\n",
       "      <td>PRELUDE</td>\n",
       "      <td>Offshore Support Vessel</td>\n",
       "      <td>2017</td>\n",
       "      <td>499167</td>\n",
       "      <td>394330</td>\n",
       "      <td>489</td>\n",
       "      <td>74</td>\n",
       "    </tr>\n",
       "    <tr>\n",
       "      <th>4</th>\n",
       "      <td>PRELUDE</td>\n",
       "      <td>Offshore Support Vessel</td>\n",
       "      <td>2017</td>\n",
       "      <td>499167</td>\n",
       "      <td>394330</td>\n",
       "      <td>489</td>\n",
       "      <td>74</td>\n",
       "    </tr>\n",
       "    <tr>\n",
       "      <th>5</th>\n",
       "      <td>PRELUDE</td>\n",
       "      <td>Offshore Support Vessel</td>\n",
       "      <td>2017</td>\n",
       "      <td>499167</td>\n",
       "      <td>394330</td>\n",
       "      <td>489</td>\n",
       "      <td>74</td>\n",
       "    </tr>\n",
       "    <tr>\n",
       "      <th>6</th>\n",
       "      <td>PRELUDE</td>\n",
       "      <td>Offshore Support Vessel</td>\n",
       "      <td>2017</td>\n",
       "      <td>499167</td>\n",
       "      <td>394330</td>\n",
       "      <td>489</td>\n",
       "      <td>74</td>\n",
       "    </tr>\n",
       "    <tr>\n",
       "      <th>7</th>\n",
       "      <td>PRELUDE</td>\n",
       "      <td>Offshore Support Vessel</td>\n",
       "      <td>2017</td>\n",
       "      <td>499167</td>\n",
       "      <td>394330</td>\n",
       "      <td>489</td>\n",
       "      <td>74</td>\n",
       "    </tr>\n",
       "    <tr>\n",
       "      <th>8</th>\n",
       "      <td>PRELUDE</td>\n",
       "      <td>Offshore Support Vessel</td>\n",
       "      <td>2017</td>\n",
       "      <td>499167</td>\n",
       "      <td>394330</td>\n",
       "      <td>489</td>\n",
       "      <td>74</td>\n",
       "    </tr>\n",
       "    <tr>\n",
       "      <th>9</th>\n",
       "      <td>PRELUDE</td>\n",
       "      <td>Offshore Support Vessel</td>\n",
       "      <td>2017</td>\n",
       "      <td>499167</td>\n",
       "      <td>394330</td>\n",
       "      <td>489</td>\n",
       "      <td>74</td>\n",
       "    </tr>\n",
       "  </tbody>\n",
       "</table>\n",
       "</div>"
      ],
      "text/plain": [
       "  Company_Name                ship_name  built_year      gt     dwt  large  \\\n",
       "0      PRELUDE  Offshore Support Vessel        2017  499167  394330    489   \n",
       "1      PRELUDE  Offshore Support Vessel        2017  499167  394330    489   \n",
       "2      PRELUDE  Offshore Support Vessel        2017  499167  394330    489   \n",
       "3      PRELUDE  Offshore Support Vessel        2017  499167  394330    489   \n",
       "4      PRELUDE  Offshore Support Vessel        2017  499167  394330    489   \n",
       "5      PRELUDE  Offshore Support Vessel        2017  499167  394330    489   \n",
       "6      PRELUDE  Offshore Support Vessel        2017  499167  394330    489   \n",
       "7      PRELUDE  Offshore Support Vessel        2017  499167  394330    489   \n",
       "8      PRELUDE  Offshore Support Vessel        2017  499167  394330    489   \n",
       "9      PRELUDE  Offshore Support Vessel        2017  499167  394330    489   \n",
       "\n",
       "   width  \n",
       "0     74  \n",
       "1     74  \n",
       "2     74  \n",
       "3     74  \n",
       "4     74  \n",
       "5     74  \n",
       "6     74  \n",
       "7     74  \n",
       "8     74  \n",
       "9     74  "
      ]
     },
     "execution_count": 52,
     "metadata": {},
     "output_type": "execute_result"
    }
   ],
   "source": [
    "# Obtengo los 10 primeros buques con capacidad de carga mensual (Dead Weight Tonnage ) mayor a 390.000 toneladas\n",
    "\n",
    "df[df['dwt']> 390000].head(10)"
   ]
  },
  {
   "cell_type": "code",
   "execution_count": 53,
   "id": "5c33dcc5",
   "metadata": {
    "scrolled": true
   },
   "outputs": [
    {
     "data": {
      "text/html": [
       "<div>\n",
       "<style scoped>\n",
       "    .dataframe tbody tr th:only-of-type {\n",
       "        vertical-align: middle;\n",
       "    }\n",
       "\n",
       "    .dataframe tbody tr th {\n",
       "        vertical-align: top;\n",
       "    }\n",
       "\n",
       "    .dataframe thead th {\n",
       "        text-align: right;\n",
       "    }\n",
       "</style>\n",
       "<table border=\"1\" class=\"dataframe\">\n",
       "  <thead>\n",
       "    <tr style=\"text-align: right;\">\n",
       "      <th></th>\n",
       "      <th>Company_Name</th>\n",
       "      <th>ship_name</th>\n",
       "      <th>built_year</th>\n",
       "      <th>gt</th>\n",
       "      <th>dwt</th>\n",
       "      <th>large</th>\n",
       "      <th>width</th>\n",
       "    </tr>\n",
       "  </thead>\n",
       "  <tbody>\n",
       "    <tr>\n",
       "      <th>160</th>\n",
       "      <td>SAHAM MAX</td>\n",
       "      <td>Bulk Carrier</td>\n",
       "      <td>2013</td>\n",
       "      <td>201705</td>\n",
       "      <td>400694</td>\n",
       "      <td>360</td>\n",
       "      <td>65</td>\n",
       "    </tr>\n",
       "    <tr>\n",
       "      <th>161</th>\n",
       "      <td>SAHAM MAX</td>\n",
       "      <td>Bulk Carrier</td>\n",
       "      <td>2013</td>\n",
       "      <td>201705</td>\n",
       "      <td>400694</td>\n",
       "      <td>360</td>\n",
       "      <td>65</td>\n",
       "    </tr>\n",
       "    <tr>\n",
       "      <th>162</th>\n",
       "      <td>SAHAM MAX</td>\n",
       "      <td>Bulk Carrier</td>\n",
       "      <td>2013</td>\n",
       "      <td>201705</td>\n",
       "      <td>400694</td>\n",
       "      <td>360</td>\n",
       "      <td>65</td>\n",
       "    </tr>\n",
       "    <tr>\n",
       "      <th>163</th>\n",
       "      <td>SAHAM MAX</td>\n",
       "      <td>Bulk Carrier</td>\n",
       "      <td>2013</td>\n",
       "      <td>201705</td>\n",
       "      <td>400694</td>\n",
       "      <td>360</td>\n",
       "      <td>65</td>\n",
       "    </tr>\n",
       "    <tr>\n",
       "      <th>164</th>\n",
       "      <td>SAHAM MAX</td>\n",
       "      <td>Bulk Carrier</td>\n",
       "      <td>2013</td>\n",
       "      <td>201705</td>\n",
       "      <td>400694</td>\n",
       "      <td>360</td>\n",
       "      <td>65</td>\n",
       "    </tr>\n",
       "    <tr>\n",
       "      <th>165</th>\n",
       "      <td>SAHAM MAX</td>\n",
       "      <td>Bulk Carrier</td>\n",
       "      <td>2013</td>\n",
       "      <td>201705</td>\n",
       "      <td>400694</td>\n",
       "      <td>360</td>\n",
       "      <td>65</td>\n",
       "    </tr>\n",
       "    <tr>\n",
       "      <th>166</th>\n",
       "      <td>SAHAM MAX</td>\n",
       "      <td>Bulk Carrier</td>\n",
       "      <td>2013</td>\n",
       "      <td>201705</td>\n",
       "      <td>400694</td>\n",
       "      <td>360</td>\n",
       "      <td>65</td>\n",
       "    </tr>\n",
       "    <tr>\n",
       "      <th>167</th>\n",
       "      <td>SAHAM MAX</td>\n",
       "      <td>Bulk Carrier</td>\n",
       "      <td>2013</td>\n",
       "      <td>201705</td>\n",
       "      <td>400694</td>\n",
       "      <td>360</td>\n",
       "      <td>65</td>\n",
       "    </tr>\n",
       "    <tr>\n",
       "      <th>168</th>\n",
       "      <td>SAHAM MAX</td>\n",
       "      <td>Bulk Carrier</td>\n",
       "      <td>2013</td>\n",
       "      <td>201705</td>\n",
       "      <td>400694</td>\n",
       "      <td>360</td>\n",
       "      <td>65</td>\n",
       "    </tr>\n",
       "    <tr>\n",
       "      <th>169</th>\n",
       "      <td>SAHAM MAX</td>\n",
       "      <td>Bulk Carrier</td>\n",
       "      <td>2013</td>\n",
       "      <td>201705</td>\n",
       "      <td>400694</td>\n",
       "      <td>360</td>\n",
       "      <td>65</td>\n",
       "    </tr>\n",
       "  </tbody>\n",
       "</table>\n",
       "</div>"
      ],
      "text/plain": [
       "    Company_Name     ship_name  built_year      gt     dwt  large  width\n",
       "160    SAHAM MAX  Bulk Carrier        2013  201705  400694    360     65\n",
       "161    SAHAM MAX  Bulk Carrier        2013  201705  400694    360     65\n",
       "162    SAHAM MAX  Bulk Carrier        2013  201705  400694    360     65\n",
       "163    SAHAM MAX  Bulk Carrier        2013  201705  400694    360     65\n",
       "164    SAHAM MAX  Bulk Carrier        2013  201705  400694    360     65\n",
       "165    SAHAM MAX  Bulk Carrier        2013  201705  400694    360     65\n",
       "166    SAHAM MAX  Bulk Carrier        2013  201705  400694    360     65\n",
       "167    SAHAM MAX  Bulk Carrier        2013  201705  400694    360     65\n",
       "168    SAHAM MAX  Bulk Carrier        2013  201705  400694    360     65\n",
       "169    SAHAM MAX  Bulk Carrier        2013  201705  400694    360     65"
      ]
     },
     "execution_count": 53,
     "metadata": {},
     "output_type": "execute_result"
    }
   ],
   "source": [
    "#Muestro los 10 buques con mas capacidad de carga \n",
    "\n",
    "df.nlargest(10,'dwt')"
   ]
  },
  {
   "cell_type": "code",
   "execution_count": 54,
   "id": "9aa2fa03",
   "metadata": {
    "scrolled": true
   },
   "outputs": [
    {
     "data": {
      "text/html": [
       "<div>\n",
       "<style scoped>\n",
       "    .dataframe tbody tr th:only-of-type {\n",
       "        vertical-align: middle;\n",
       "    }\n",
       "\n",
       "    .dataframe tbody tr th {\n",
       "        vertical-align: top;\n",
       "    }\n",
       "\n",
       "    .dataframe thead th {\n",
       "        text-align: right;\n",
       "    }\n",
       "</style>\n",
       "<table border=\"1\" class=\"dataframe\">\n",
       "  <thead>\n",
       "    <tr style=\"text-align: right;\">\n",
       "      <th></th>\n",
       "      <th>Company_Name</th>\n",
       "      <th>ship_name</th>\n",
       "      <th>built_year</th>\n",
       "      <th>gt</th>\n",
       "      <th>dwt</th>\n",
       "      <th>large</th>\n",
       "      <th>width</th>\n",
       "    </tr>\n",
       "  </thead>\n",
       "  <tbody>\n",
       "    <tr>\n",
       "      <th>0</th>\n",
       "      <td>PRELUDE</td>\n",
       "      <td>Offshore Support Vessel</td>\n",
       "      <td>2017</td>\n",
       "      <td>499167</td>\n",
       "      <td>394330</td>\n",
       "      <td>489</td>\n",
       "      <td>74</td>\n",
       "    </tr>\n",
       "    <tr>\n",
       "      <th>1</th>\n",
       "      <td>PRELUDE</td>\n",
       "      <td>Offshore Support Vessel</td>\n",
       "      <td>2017</td>\n",
       "      <td>499167</td>\n",
       "      <td>394330</td>\n",
       "      <td>489</td>\n",
       "      <td>74</td>\n",
       "    </tr>\n",
       "    <tr>\n",
       "      <th>2</th>\n",
       "      <td>PRELUDE</td>\n",
       "      <td>Offshore Support Vessel</td>\n",
       "      <td>2017</td>\n",
       "      <td>499167</td>\n",
       "      <td>394330</td>\n",
       "      <td>489</td>\n",
       "      <td>74</td>\n",
       "    </tr>\n",
       "    <tr>\n",
       "      <th>3</th>\n",
       "      <td>PRELUDE</td>\n",
       "      <td>Offshore Support Vessel</td>\n",
       "      <td>2017</td>\n",
       "      <td>499167</td>\n",
       "      <td>394330</td>\n",
       "      <td>489</td>\n",
       "      <td>74</td>\n",
       "    </tr>\n",
       "    <tr>\n",
       "      <th>4</th>\n",
       "      <td>PRELUDE</td>\n",
       "      <td>Offshore Support Vessel</td>\n",
       "      <td>2017</td>\n",
       "      <td>499167</td>\n",
       "      <td>394330</td>\n",
       "      <td>489</td>\n",
       "      <td>74</td>\n",
       "    </tr>\n",
       "    <tr>\n",
       "      <th>5</th>\n",
       "      <td>PRELUDE</td>\n",
       "      <td>Offshore Support Vessel</td>\n",
       "      <td>2017</td>\n",
       "      <td>499167</td>\n",
       "      <td>394330</td>\n",
       "      <td>489</td>\n",
       "      <td>74</td>\n",
       "    </tr>\n",
       "    <tr>\n",
       "      <th>6</th>\n",
       "      <td>PRELUDE</td>\n",
       "      <td>Offshore Support Vessel</td>\n",
       "      <td>2017</td>\n",
       "      <td>499167</td>\n",
       "      <td>394330</td>\n",
       "      <td>489</td>\n",
       "      <td>74</td>\n",
       "    </tr>\n",
       "    <tr>\n",
       "      <th>7</th>\n",
       "      <td>PRELUDE</td>\n",
       "      <td>Offshore Support Vessel</td>\n",
       "      <td>2017</td>\n",
       "      <td>499167</td>\n",
       "      <td>394330</td>\n",
       "      <td>489</td>\n",
       "      <td>74</td>\n",
       "    </tr>\n",
       "    <tr>\n",
       "      <th>8</th>\n",
       "      <td>PRELUDE</td>\n",
       "      <td>Offshore Support Vessel</td>\n",
       "      <td>2017</td>\n",
       "      <td>499167</td>\n",
       "      <td>394330</td>\n",
       "      <td>489</td>\n",
       "      <td>74</td>\n",
       "    </tr>\n",
       "    <tr>\n",
       "      <th>9</th>\n",
       "      <td>PRELUDE</td>\n",
       "      <td>Offshore Support Vessel</td>\n",
       "      <td>2017</td>\n",
       "      <td>499167</td>\n",
       "      <td>394330</td>\n",
       "      <td>489</td>\n",
       "      <td>74</td>\n",
       "    </tr>\n",
       "  </tbody>\n",
       "</table>\n",
       "</div>"
      ],
      "text/plain": [
       "  Company_Name                ship_name  built_year      gt     dwt  large  \\\n",
       "0      PRELUDE  Offshore Support Vessel        2017  499167  394330    489   \n",
       "1      PRELUDE  Offshore Support Vessel        2017  499167  394330    489   \n",
       "2      PRELUDE  Offshore Support Vessel        2017  499167  394330    489   \n",
       "3      PRELUDE  Offshore Support Vessel        2017  499167  394330    489   \n",
       "4      PRELUDE  Offshore Support Vessel        2017  499167  394330    489   \n",
       "5      PRELUDE  Offshore Support Vessel        2017  499167  394330    489   \n",
       "6      PRELUDE  Offshore Support Vessel        2017  499167  394330    489   \n",
       "7      PRELUDE  Offshore Support Vessel        2017  499167  394330    489   \n",
       "8      PRELUDE  Offshore Support Vessel        2017  499167  394330    489   \n",
       "9      PRELUDE  Offshore Support Vessel        2017  499167  394330    489   \n",
       "\n",
       "   width  \n",
       "0     74  \n",
       "1     74  \n",
       "2     74  \n",
       "3     74  \n",
       "4     74  \n",
       "5     74  \n",
       "6     74  \n",
       "7     74  \n",
       "8     74  \n",
       "9     74  "
      ]
     },
     "execution_count": 54,
     "metadata": {},
     "output_type": "execute_result"
    }
   ],
   "source": [
    "# Imprimo los 10 Barcos con mayor capacidad interna total (Gross Tonnage)\n",
    "\n",
    "df.nlargest(10,'large')"
   ]
  },
  {
   "cell_type": "code",
   "execution_count": 150,
   "id": "0bf7ce1a",
   "metadata": {},
   "outputs": [
    {
     "data": {
      "text/plain": [
       "<Axes: >"
      ]
     },
     "execution_count": 150,
     "metadata": {},
     "output_type": "execute_result"
    },
    {
     "data": {
      "image/png": "[encoded data removed]",
      "text/plain": [
       "<Figure size 800x600 with 1 Axes>"
      ]
     },
     "metadata": {},
     "output_type": "display_data"
    }
   ],
   "source": [
    "# Se crea un gráfico con los modelos de estos buqes\n",
    "\n",
    "df['ship_name'].value_counts().plot(kind='pie',autopct='%.1f',label=\"\",fontsize=10,figsize=(8,6))      "
   ]
  },
  {
   "cell_type": "code",
   "execution_count": 106,
   "id": "bc1cdefb",
   "metadata": {},
   "outputs": [
    {
     "data": {
      "text/plain": [
       "<Axes: >"
      ]
     },
     "execution_count": 106,
     "metadata": {},
     "output_type": "execute_result"
    },
    {
     "data": {
      "image/png": "[encoded data removed]",
      "text/plain": [
       "<Figure size 640x480 with 1 Axes>"
      ]
     },
     "metadata": {},
     "output_type": "display_data"
    }
   ],
   "source": [
    "# Se crea un gráfico con los años de contrucción de los buqes\n",
    "\n",
    "df['built_year'].value_counts().plot(kind='bar')"
   ]
  },
  {
   "cell_type": "code",
   "execution_count": 151,
   "id": "82b552d3",
   "metadata": {},
   "outputs": [
    {
     "data": {
      "text/html": [
       "<div>\n",
       "<style scoped>\n",
       "    .dataframe tbody tr th:only-of-type {\n",
       "        vertical-align: middle;\n",
       "    }\n",
       "\n",
       "    .dataframe tbody tr th {\n",
       "        vertical-align: top;\n",
       "    }\n",
       "\n",
       "    .dataframe thead th {\n",
       "        text-align: right;\n",
       "    }\n",
       "</style>\n",
       "<table border=\"1\" class=\"dataframe\">\n",
       "  <thead>\n",
       "    <tr style=\"text-align: right;\">\n",
       "      <th></th>\n",
       "      <th>count</th>\n",
       "      <th>mean</th>\n",
       "      <th>std</th>\n",
       "      <th>min</th>\n",
       "      <th>25%</th>\n",
       "      <th>50%</th>\n",
       "      <th>75%</th>\n",
       "      <th>max</th>\n",
       "    </tr>\n",
       "  </thead>\n",
       "  <tbody>\n",
       "    <tr>\n",
       "      <th>built_year</th>\n",
       "      <td>4000.0</td>\n",
       "      <td>2011.66</td>\n",
       "      <td>7.165699</td>\n",
       "      <td>1976.0</td>\n",
       "      <td>2009.00</td>\n",
       "      <td>2012.0</td>\n",
       "      <td>2016.00</td>\n",
       "      <td>2023.0</td>\n",
       "    </tr>\n",
       "    <tr>\n",
       "      <th>gt</th>\n",
       "      <td>4000.0</td>\n",
       "      <td>128046.05</td>\n",
       "      <td>43045.106352</td>\n",
       "      <td>89991.0</td>\n",
       "      <td>94761.75</td>\n",
       "      <td>113883.0</td>\n",
       "      <td>155140.50</td>\n",
       "      <td>499167.0</td>\n",
       "    </tr>\n",
       "    <tr>\n",
       "      <th>dwt</th>\n",
       "      <td>4000.0</td>\n",
       "      <td>179971.46</td>\n",
       "      <td>88786.478168</td>\n",
       "      <td>7900.0</td>\n",
       "      <td>106146.25</td>\n",
       "      <td>179217.5</td>\n",
       "      <td>231111.75</td>\n",
       "      <td>400694.0</td>\n",
       "    </tr>\n",
       "  </tbody>\n",
       "</table>\n",
       "</div>"
      ],
      "text/plain": [
       "             count       mean           std      min        25%       50%  \\\n",
       "built_year  4000.0    2011.66      7.165699   1976.0    2009.00    2012.0   \n",
       "gt          4000.0  128046.05  43045.106352  89991.0   94761.75  113883.0   \n",
       "dwt         4000.0  179971.46  88786.478168   7900.0  106146.25  179217.5   \n",
       "\n",
       "                  75%       max  \n",
       "built_year    2016.00    2023.0  \n",
       "gt          155140.50  499167.0  \n",
       "dwt         231111.75  400694.0  "
      ]
     },
     "execution_count": 151,
     "metadata": {},
     "output_type": "execute_result"
    }
   ],
   "source": [
    "# Eda basico \n",
    "#cantidad,mediana,desviación estandar,cuartiles(25,50,75),maximo\n",
    "\n",
    "df.describe().T"
   ]
  }
 ],
 "metadata": {
  "kernelspec": {
   "display_name": "Python 3 (ipykernel)",
   "language": "python",
   "name": "python3"
  },
  "language_info": {
   "codemirror_mode": {
    "name": "ipython",
    "version": 3
   },
   "file_extension": ".py",
   "mimetype": "text/x-python",
   "name": "python",
   "nbconvert_exporter": "python",
   "pygments_lexer": "ipython3",
   "version": "3.11.4"
  }
 },
 "nbformat": 4,
 "nbformat_minor": 5
}
